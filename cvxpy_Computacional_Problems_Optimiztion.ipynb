{
  "nbformat": 4,
  "nbformat_minor": 0,
  "metadata": {
    "colab": {
      "name": "cvxpy Computacional Problems Optimiztion.ipynb",
      "provenance": [],
      "collapsed_sections": [
        "WOy_pLBGCqV-",
        "zdaFC1mIylNv",
        "C4DPAS-UAoum",
        "oV4VZMZQEd6L",
        "Akp3jdNXDqdG",
        "SuAAFDNnHSvL",
        "P7B0KHPVBOzx"
      ]
    },
    "kernelspec": {
      "name": "python3",
      "display_name": "Python 3"
    },
    "language_info": {
      "name": "python"
    }
  },
  "cells": [
    {
      "cell_type": "code",
      "metadata": {
        "id": "SJsPrtJv-JGn"
      },
      "source": [
        "import numpy as np\n",
        "import matplotlib.pyplot as plt\n",
        "from IPython import display\n",
        "from scipy import optimize\n",
        "import cvxpy as cp\n",
        "from google.colab import files\n",
        "from IPython.display import Image"
      ],
      "execution_count": null,
      "outputs": []
    },
    {
      "cell_type": "markdown",
      "metadata": {
        "id": "WOy_pLBGCqV-"
      },
      "source": [
        "# Problema 1\n",
        "Usando una de las librerias introducidas soluciones el siguiente problema de optimizacion (encuentre el punto y valor optimo). Represente graficamente el conjunto factible y comente sobre la localización del punto óptimo.\n",
        "$$\n",
        "\\begin{array}{cr}\n",
        "\\mbox{minimizar}     & x_1^2+x_2^2  \\\\\n",
        "\\mbox{sujeto a}     & (x_1-1)^2+(x_2-1)^2\\leq 1,\\\\\n",
        " & (x_1-1)^2+(x_2+1)^2\\leq 1,\n",
        "\\end{array}\n",
        "$$"
      ]
    },
    {
      "cell_type": "markdown",
      "metadata": {
        "id": "dZBcgQVPMdUG"
      },
      "source": [
        "### Solución"
      ]
    },
    {
      "cell_type": "markdown",
      "metadata": {
        "id": "7Nb6AQjXLswJ"
      },
      "source": [
        "Para este problema se usará la librería cvxpy, ya que es un problema de optimización convexa, este problema tiene algo interesante y es que cuando se restringe la función objetivo nos queda solo un punto, luego cuando corremos el programa nos da ese punto como el mínimo."
      ]
    },
    {
      "cell_type": "markdown",
      "metadata": {
        "id": "ZyNK-iAxNE9d"
      },
      "source": [
        "En esta grafica se muesta la función objetivo además de sus restricciónes (No la función con su restricción ya que solo es un punto) y el punto A que representa el mínimo y también la función restringida."
      ]
    },
    {
      "cell_type": "code",
      "metadata": {
        "colab": {
          "base_uri": "https://localhost:8080/",
          "height": 701
        },
        "id": "K7o81nFMfOLv",
        "outputId": "4c275475-673e-43c3-ee0a-138f56b33031"
      },
      "source": [
        "iframe = '<iframe \\  scrolling=\"no\" \\  src=\"https://www.geogebra.org/3d/a4a5vttb\" \\  width=\"980px\" \\  height=\"680px\" \\  style=\"border:0px;\"> \\  </iframe>'\n",
        "display.HTML(iframe)"
      ],
      "execution_count": null,
      "outputs": [
        {
          "output_type": "execute_result",
          "data": {
            "text/html": [
              "<iframe \\  scrolling=\"no\" \\  src=\"https://www.geogebra.org/3d/a4a5vttb\" \\  width=\"980px\" \\  height=\"680px\" \\  style=\"border:0px;\"> \\  </iframe>"
            ],
            "text/plain": [
              "<IPython.core.display.HTML object>"
            ]
          },
          "metadata": {
            "tags": []
          },
          "execution_count": 75
        }
      ]
    },
    {
      "cell_type": "code",
      "metadata": {
        "colab": {
          "base_uri": "https://localhost:8080/"
        },
        "id": "_BUAjQEJdKUn",
        "outputId": "496824d7-ed9e-4d2b-8b28-bc2c7fd3273f"
      },
      "source": [
        "x = cp.Variable()\n",
        "y = cp.Variable()\n",
        "constraint1 = ((x-1)**2 + (y-1)**2 <= 1 )\n",
        "constraint2 = ((x-1)**2 + (y+1)**2 <= 1 )\n",
        "cons1 = [constraint1,constraint2]\n",
        "obj1 = cp.Minimize((x**2)+(y**2))\n",
        "prob1 = cp.Problem(obj1, cons1)\n",
        "prob1.solve()\n",
        "print(\"Estatus final alcanzado:\\t\", prob1.status)\n",
        "print(\"Valor optimo:\\t\", round(float(prob1.value),2))\n",
        "print(\"Punto optimo:\\t\", \"x=\", round(float(x.value),2), \"y=\",round(float(y.value),2)) #redondeamos a dos cifras con round()"
      ],
      "execution_count": null,
      "outputs": [
        {
          "output_type": "stream",
          "text": [
            "Estatus final alcanzado:\t optimal\n",
            "Valor optimo:\t 1.0\n",
            "Punto optimo:\t x= 1.0 y= 0.0\n"
          ],
          "name": "stdout"
        }
      ]
    },
    {
      "cell_type": "markdown",
      "metadata": {
        "id": "RaCoJ9eJN4Au"
      },
      "source": [
        "Podemos ver que el mínimo es (1,0,1) que por supuesto fue graficado y el único de la función restringida. "
      ]
    },
    {
      "cell_type": "markdown",
      "metadata": {
        "id": "zdaFC1mIylNv"
      },
      "source": [
        "# Problema 2\n",
        "Usando una de las librerias introducidas soluciones el siguiente problema de optimizacion (encuentre el punto y valor optimo). Represente graficamente el conjunto factible y comente sobre la localización del punto óptimo.\n",
        "$$\n",
        "\\begin{array}{cl}\n",
        "\\mbox{minimizar}     & x_1+x_2 \\\\\n",
        "\\mbox{sujeto a}     & 2x_1+x_2\\leq 1\\\\\n",
        " & x_1+3x_2\\geq 1\\\\\n",
        "&x_1,x_2\\geq 0\n",
        "\\end{array}\n",
        "$$"
      ]
    },
    {
      "cell_type": "markdown",
      "metadata": {
        "id": "vxsxlbz6VJun"
      },
      "source": [
        "Es un problema donde la función y restricciónes son convexos, así que usamos la librería cvxpy, primero realizaremos el ejercicicio y luego graficaremos, con el punto A el mínimo"
      ]
    },
    {
      "cell_type": "code",
      "metadata": {
        "colab": {
          "base_uri": "https://localhost:8080/"
        },
        "id": "IjuQNlgplbeA",
        "outputId": "da60a9dc-73e9-40be-ad16-f41d82fb6f6e"
      },
      "source": [
        "x = cp.Variable()\n",
        "y = cp.Variable()\n",
        "cons2 = [ (((2*x)+y)<= 1),( (x + (3*y))>= 1),( x >= 0), (y >= 0)]\n",
        "obj2 = cp.Minimize(x+y)\n",
        "prob2 = cp.Problem(obj2, cons2)\n",
        "prob2.solve()\n",
        "print(\"Estatus final alcanzado:\\t\", prob2.status)\n",
        "print(\"Valor optimo:\\t\", round(float(prob2.value),2)) #redondeamos a dos cifras con round()\n",
        "print(\"Punto optimo:\\t\", \"x=\", round(float(x.value),2), \"y=\",round(float(y.value),2)) #redondeamos a dos cifras con round()"
      ],
      "execution_count": null,
      "outputs": [
        {
          "output_type": "stream",
          "text": [
            "Estatus final alcanzado:\t optimal\n",
            "Valor optimo:\t 0.33\n",
            "Punto optimo:\t x= 0.0 y= 0.33\n"
          ],
          "name": "stdout"
        }
      ]
    },
    {
      "cell_type": "code",
      "metadata": {
        "id": "I-CKFhJyfdKZ",
        "colab": {
          "base_uri": "https://localhost:8080/",
          "height": 701
        },
        "outputId": "584dbae7-b2f5-45b0-e8a8-2d1f2f10c683"
      },
      "source": [
        "iframe = '<iframe \\  scrolling=\"no\" \\  src=\"https://www.geogebra.org/3d/hpevp3bm\" \\  width=\"980px\" \\  height=\"680px\" \\  style=\"border:0px;\"> \\  </iframe>'\n",
        "display.HTML(iframe)"
      ],
      "execution_count": null,
      "outputs": [
        {
          "output_type": "execute_result",
          "data": {
            "text/html": [
              "<iframe \\  scrolling=\"no\" \\  src=\"https://www.geogebra.org/3d/hpevp3bm\" \\  width=\"980px\" \\  height=\"680px\" \\  style=\"border:0px;\"> \\  </iframe>"
            ],
            "text/plain": [
              "<IPython.core.display.HTML object>"
            ]
          },
          "metadata": {
            "tags": []
          },
          "execution_count": 3
        }
      ]
    },
    {
      "cell_type": "markdown",
      "metadata": {
        "id": "I-qaAAZI079D"
      },
      "source": [
        ""
      ]
    },
    {
      "cell_type": "markdown",
      "metadata": {
        "id": "C4DPAS-UAoum"
      },
      "source": [
        "# Problema 3\n",
        "Usando una de las librerias introducidas soluciones el siguiente problema de optimizacion (encuentre el punto y valor optimo). Represente graficamente el conjunto factible y comente sobre la localización del punto óptimo.\n",
        "$$\n",
        "\\begin{array}{cl}\n",
        "\\mbox{minimizar}     & -x_1-x_2 \\\\\n",
        "\\mbox{sujeto a}     & 2x_1+x_2\\leq 1\\\\\n",
        " & x_1+3x_2\\geq 1\\\\\n",
        "&x_1,x_2\\geq 0\n",
        "\\end{array}\n",
        "$$"
      ]
    },
    {
      "cell_type": "markdown",
      "metadata": {
        "id": "mau_0tTSVrN4"
      },
      "source": [
        "Es un problema donde la función y restricciónes son convexos, así que usamos la librería cvxpy, primero realizaremos el ejercicicio y luego graficaremos, con el punto A el mínimo"
      ]
    },
    {
      "cell_type": "code",
      "metadata": {
        "colab": {
          "base_uri": "https://localhost:8080/"
        },
        "id": "bk95wWDmqhVD",
        "outputId": "a00f3c79-68b6-4f3d-bf5d-c952856ee015"
      },
      "source": [
        "x = cp.Variable()\n",
        "y = cp.Variable()\n",
        "constraint0 = ( (2*x) + y <= 1 )\n",
        "constraint1 = (x + (3*y) >= 1)\n",
        "constraint2 = (x >= 0 )\n",
        "constraint3 = (y >= 0 )\n",
        "cons3 = [constraint0, constraint1, constraint2, constraint3]\n",
        "obj3 = cp.Minimize(-x-y)\n",
        "prob3 = cp.Problem(obj3, cons3)\n",
        "prob3.solve()\n",
        "print(\"Estatus final alcanzado:\\t\", prob3.status)\n",
        "print(\"Valor optimo:\\t\", round(float(prob3.value),2)) #redondeamos a dos cifras con round()\n",
        "print(\"Punto optimo:\\t\", \"x=\", round(float(x.value),2), \"y=\",round(float(y.value),2)) #redondeamos a dos cifras con round()"
      ],
      "execution_count": null,
      "outputs": [
        {
          "output_type": "stream",
          "text": [
            "Estatus final alcanzado:\t optimal\n",
            "Valor optimo:\t -1.0\n",
            "Punto optimo:\t x= -0.0 y= 1.0\n"
          ],
          "name": "stdout"
        }
      ]
    },
    {
      "cell_type": "code",
      "metadata": {
        "id": "7E13KfofkI4N",
        "colab": {
          "base_uri": "https://localhost:8080/",
          "height": 801
        },
        "outputId": "83e22aed-a859-4d7f-8588-96d7d9d3e153"
      },
      "source": [
        "iframe = '<iframe \\  scrolling=\"no\" \\  src=\"https://www.geogebra.org/3d/mycjsxje\" \\  width=\"980px\" \\  height=\"780px\" \\  style=\"border:0px;\"> \\  </iframe>'\n",
        "display.HTML(iframe)"
      ],
      "execution_count": null,
      "outputs": [
        {
          "output_type": "execute_result",
          "data": {
            "text/html": [
              "<iframe \\  scrolling=\"no\" \\  src=\"https://www.geogebra.org/3d/mycjsxje\" \\  width=\"980px\" \\  height=\"780px\" \\  style=\"border:0px;\"> \\  </iframe>"
            ],
            "text/plain": [
              "<IPython.core.display.HTML object>"
            ]
          },
          "metadata": {
            "tags": []
          },
          "execution_count": 6
        }
      ]
    },
    {
      "cell_type": "markdown",
      "metadata": {
        "id": "oV4VZMZQEd6L"
      },
      "source": [
        "# Problema 4\n",
        "Usando una de las librerias introducidas soluciones el siguiente problema de optimizacion (encuentre el punto y valor optimo). Represente graficamente el conjunto factible y comente sobre la localización del punto óptimo.\n",
        "$$\n",
        "\\begin{array}{cr}\n",
        "\\mbox{minimizar}     & x_1^2+9x_2^2  \\\\\n",
        "\\mbox{sujeto a}     & 2x_1+x_2\\geq 1,\\\\\n",
        " & x_1+3x_2\\geq 1,\n",
        "\\end{array}\n",
        "$$"
      ]
    },
    {
      "cell_type": "markdown",
      "metadata": {
        "id": "wcB8iegfWCwB"
      },
      "source": [
        "Es un problema donde la función y restricciónes son convexos, así que usamos la librería cvxpy, primero realizaremos el ejercicicio y luego graficaremos, con el punto A el mínimo"
      ]
    },
    {
      "cell_type": "code",
      "metadata": {
        "colab": {
          "base_uri": "https://localhost:8080/"
        },
        "id": "qt3NsS8HsOI2",
        "outputId": "da98376d-3634-4081-f4df-55cbae77ecb2"
      },
      "source": [
        "x = cp.Variable()\n",
        "y = cp.Variable()\n",
        "constraint0 = ((2*x)+y >= 1.0)\n",
        "constraint1 = (x + 3*y >= 1.0)\n",
        "cons4 = [constraint0 , constraint1]\n",
        "obj4 = cp.Minimize((x**2)+(9*(y**2)))\n",
        "prob4 = cp.Problem(obj4, cons4)\n",
        "\n",
        "# Se resuelve el problema con el solver por defecto\n",
        "prob4.solve()  # Returns the optimal value.\n",
        "\n",
        "print(\"Estatus final alcanzado:\\t\", prob4.status)\n",
        "print(\"Valor optimo:\\t\", round(float(prob4.value),2)) #redondeamos a dos cifras con round()\n",
        "print(\"Punto optimo:\\t\", \"x=\", round(float(x.value),2), \"y=\",round(float(y.value),2)) #redondeamos a dos cifras con round()"
      ],
      "execution_count": null,
      "outputs": [
        {
          "output_type": "stream",
          "text": [
            "Estatus final alcanzado:\t optimal\n",
            "Valor optimo:\t 0.5\n",
            "Punto optimo:\t x= 0.5 y= 0.17\n"
          ],
          "name": "stdout"
        }
      ]
    },
    {
      "cell_type": "code",
      "metadata": {
        "colab": {
          "base_uri": "https://localhost:8080/",
          "height": 801
        },
        "id": "nr90hixhkf1s",
        "outputId": "2d28da61-202b-4e85-cddb-eff16d885b97"
      },
      "source": [
        "iframe = '<iframe \\  scrolling=\"no\" \\  src=\"https://www.geogebra.org/3d/dwnkrqqv\" \\  width=\"980px\" \\  height=\"780px\" \\  style=\"border:0px;\"> \\  </iframe>'\n",
        "display.HTML(iframe)"
      ],
      "execution_count": null,
      "outputs": [
        {
          "output_type": "execute_result",
          "data": {
            "text/html": [
              "<iframe \\  scrolling=\"no\" \\  src=\"https://www.geogebra.org/3d/dwnkrqqv\" \\  width=\"980px\" \\  height=\"780px\" \\  style=\"border:0px;\"> \\  </iframe>"
            ],
            "text/plain": [
              "<IPython.core.display.HTML object>"
            ]
          },
          "metadata": {
            "tags": []
          },
          "execution_count": 42
        }
      ]
    },
    {
      "cell_type": "markdown",
      "metadata": {
        "id": "Akp3jdNXDqdG"
      },
      "source": [
        "# Problema 5\n",
        "Usando una de las librerias introducidas soluciones el siguiente problema de optimizacion (encuentre el punto y valor optimo). Represente graficamente el conjunto factible y comente sobre la localización del punto óptimo.\n",
        "\n",
        "\\begin{array}{cl}\n",
        "\\mbox{minimizar}     & x_1^2-3x_1+x_2^2-x_2  \\\\\n",
        "\\mbox{sujeto a}     & -x_1+x_2\\leq 0\\\\\n",
        " & x_1^2+x_2^2\\leq 4\\\\\n",
        "&x_1,x_2\\geq 0\n",
        "\\end{array}"
      ]
    },
    {
      "cell_type": "markdown",
      "metadata": {
        "id": "SnR75DpQWaPs"
      },
      "source": [
        "Es un problema donde la función y restricciónes son convexos, así que usamos la librería cvxpy, primero realizaremos el ejercicicio y luego graficaremos, con el punto A el mínimo"
      ]
    },
    {
      "cell_type": "code",
      "metadata": {
        "colab": {
          "base_uri": "https://localhost:8080/"
        },
        "id": "5OeMJTqd0Cmw",
        "outputId": "81c35246-78fc-4ad9-8a7b-e577eb8c2a90"
      },
      "source": [
        "x = cp.Variable()\n",
        "y = cp.Variable()\n",
        "constraint0 = (2*x + y >= 0)\n",
        "constraint1 = (x + 3*y >= 0)\n",
        "cons5 = [(-x + y <= 0), (x**2 + y**2 <= 4),(x >= 0), (y >= 0)]\n",
        "obj5 = cp.Minimize((x**2)-(3*x)+((y**2)-y))\n",
        "prob5 = cp.Problem(obj5, cons5)\n",
        "# Se resuelve el problema con el solver por defecto\n",
        "prob5.solve()  # Returns the optimal value.\n",
        "print(\"Estatus final alcanzado:\\t\", prob5.status)\n",
        "print(\"Valor optimo:\\t\", round(float(prob5.value),2)) #redondeamos a dos cifras con round()\n",
        "print(\"Punto optimo:\\t\", \"x=\", round(float(x.value),2), \"y=\",round(float(y.value),2)) #redondeamos a dos cifras con round()"
      ],
      "execution_count": null,
      "outputs": [
        {
          "output_type": "stream",
          "text": [
            "Estatus final alcanzado:\t optimal\n",
            "Valor optimo:\t -2.5\n",
            "Punto optimo:\t x= 1.5 y= 0.5\n"
          ],
          "name": "stdout"
        }
      ]
    },
    {
      "cell_type": "code",
      "metadata": {
        "colab": {
          "base_uri": "https://localhost:8080/",
          "height": 801
        },
        "id": "WCjSO_t0kwFp",
        "outputId": "2c3d7ce0-8b6d-46b9-c68a-e4b3e67a1bfa"
      },
      "source": [
        "iframe = '<iframe \\  scrolling=\"no\" \\  src=\"https://www.geogebra.org/3d/jhb6mu85\" \\  width=\"980px\" \\  height=\"780px\" \\  style=\"border:0px;\"> \\  </iframe>'\n",
        "display.HTML(iframe)"
      ],
      "execution_count": null,
      "outputs": [
        {
          "output_type": "execute_result",
          "data": {
            "text/html": [
              "<iframe \\  scrolling=\"no\" \\  src=\"https://www.geogebra.org/3d/jhb6mu85\" \\  width=\"980px\" \\  height=\"780px\" \\  style=\"border:0px;\"> \\  </iframe>"
            ],
            "text/plain": [
              "<IPython.core.display.HTML object>"
            ]
          },
          "metadata": {
            "tags": []
          },
          "execution_count": 45
        }
      ]
    },
    {
      "cell_type": "markdown",
      "metadata": {
        "id": "SuAAFDNnHSvL"
      },
      "source": [
        "# Problema 6\n",
        "Una refinería puede comprar dos tipos de petróleos: petróleo crudo lígero y petróleo crudo pesado. El costo por barril de estos tipos de petroleo es de 11USD y 9USD, respectivamente. De cada tipo de petróleo se producen por barril las siguientes cantidades de gasolina, kerosene y turbosina:\n",
        "\n",
        "\n",
        "|                     |Gasolina         |kerosene        | Turbosina      |\n",
        "----------------------|-----------------|----------------|----------------|\n",
        "| Lígero              | 0.4             |0.2             |0.35            |\n",
        "| Pesado              | 0.32            |0.4             |0.2             |\n",
        "\n",
        "\n",
        "Observe que durante el proceso de refinamiento se pierden 5% y 8% del crudo, respectivamente. La refinería tiene un contrato para entregar 1 millón de barriles de gasolina, 400mil barriles de kerosene y 250mil barriles de turbosina. Formule y resuelva un problema de programación lineal de minimizar el costo y cumplir con los requerimientos en este caso."
      ]
    },
    {
      "cell_type": "markdown",
      "metadata": {
        "id": "Ty8B4xi4mFxp"
      },
      "source": [
        "Tomamos a $x$ como la cantidad de barriles de petroleo ligero y $y$ como la cantidad de petroleo pesado.\n",
        "\n",
        "Así que tenemos:\n",
        "\n",
        "$$f(x,y) = 11x + 9y$$\n",
        "\n",
        "Donde $f(x,y)$ representa la función de costo, la cual debemos minimizar sujeta a:\n",
        "\n",
        "Restricción 0 = $(0.4x+0.32y \\geq 1'000.000)$\\\n",
        "Restricción 1 = $(0.2x + 0.4y \\geq 400.000)$\\\n",
        "Restricción 2 = $(0.35x + 0.2y \\geq 250.000)$\\\n",
        "Restricción 3 = $(x \\geq 0)$\\\n",
        "Restricción 4 = $(y \\geq 0)$\n",
        "\n",
        "\n"
      ]
    },
    {
      "cell_type": "code",
      "metadata": {
        "colab": {
          "base_uri": "https://localhost:8080/"
        },
        "id": "Z3fcD1vcX2N0",
        "outputId": "8c3dc2e8-cd92-4f42-897c-cff31e16061e"
      },
      "source": [
        "x = cp.Variable()\n",
        "y = cp.Variable()\n",
        "\n",
        "constraint0 = ((0.4*x)+(0.32*y) >= 1000000)\n",
        "constraint1 = (0.2*x + 0.4*y >= 400000)\n",
        "constraint2 = (0.35*x + 0.2*y >= 250000)\n",
        "constraint3 = (x >= 0)\n",
        "constraint4 = (y >= 0)\n",
        "\n",
        "\n",
        "cons6 = [constraint0, constraint1, constraint2, constraint3, constraint4]\n",
        "\n",
        "obj6 = cp.Minimize(11*(x)+9*(y))\n",
        "prob6 = cp.Problem(obj6, cons6)\n",
        "\n",
        "# Se resuelve el problema con el solver por defecto\n",
        "prob6.solve()  # Returns the optimal value.\n",
        "\n",
        "print(\"Estatus final alcanzado:\\t\", prob6.status)\n",
        "print(\"Valor optimo:\\t\", round(float(prob6.value),2)) #redondeamos a dos cifras con round()\n",
        "print(\"Punto optimo:\\t\", \"x=\", round(float(x.value),2), \"y=\",round(float(y.value),2)) #redondeamos a dos cifras con round()"
      ],
      "execution_count": null,
      "outputs": [
        {
          "output_type": "stream",
          "text": [
            "Estatus final alcanzado:\t optimal\n",
            "Valor optimo:\t 27500000.0\n",
            "Punto optimo:\t x= 2500000.0 y= 0.0\n"
          ],
          "name": "stdout"
        }
      ]
    },
    {
      "cell_type": "code",
      "metadata": {
        "colab": {
          "base_uri": "https://localhost:8080/",
          "height": 801
        },
        "id": "WSDZzW06kZqD",
        "outputId": "3fb886da-51d1-4ea0-ff2b-972afa14c1fe"
      },
      "source": [
        "iframe = '<iframe \\  scrolling=\"no\" \\  src=\"https://www.geogebra.org/3d/vseuc4uc\" \\  width=\"980px\" \\  height=\"780px\" \\  style=\"border:0px;\"> \\  </iframe>'\n",
        "display.HTML(iframe)"
      ],
      "execution_count": null,
      "outputs": [
        {
          "output_type": "execute_result",
          "data": {
            "text/html": [
              "<iframe \\  scrolling=\"no\" \\  src=\"https://www.geogebra.org/3d/vseuc4uc\" \\  width=\"980px\" \\  height=\"780px\" \\  style=\"border:0px;\"> \\  </iframe>"
            ],
            "text/plain": [
              "<IPython.core.display.HTML object>"
            ]
          },
          "metadata": {
            "tags": []
          },
          "execution_count": 8
        }
      ]
    },
    {
      "cell_type": "markdown",
      "metadata": {
        "id": "P7B0KHPVBOzx"
      },
      "source": [
        "# Problema 7\n",
        "Resolver \n",
        "$$\n",
        "\\begin{array}{cr}\n",
        "\\mbox{minimizar}     & \\exp\\left(\\sin^2(5\\pi x_1)+\\cos^2(5\\pi x_2)\\right)  \\\\\n",
        "\\mbox{sujeto a}     & |x_1|\\leq 1,\\\\\n",
        " & |x_2|\\leq 1,\n",
        "\\end{array}\n",
        "$$"
      ]
    },
    {
      "cell_type": "markdown",
      "metadata": {
        "id": "T-DxWfnzCSie"
      },
      "source": [
        "A diferencia de los anteriores puntos, nuestra función objetivo $\\exp\\left(\\sin^2(5\\pi x_1)+\\cos^2(5\\pi x_2)\\right) $ no es convexa, por eso usaremos la librería scipy.\n",
        "Primero la graficaremos para tener una idea de donde puede o pueden estar los mínimos de esta función:\n",
        " "
      ]
    },
    {
      "cell_type": "code",
      "metadata": {
        "colab": {
          "resources": {
            "http://localhost:8080/nbextensions/google.colab/files.js": {
              "data": "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",
              "ok": true,
              "headers": [
                [
                  "content-type",
                  "application/javascript"
                ]
              ],
              "status": 200,
              "status_text": ""
            }
          },
          "base_uri": "https://localhost:8080/",
          "height": 72
        },
        "id": "ILEdmKD7YSO_",
        "outputId": "d281a0bd-03b4-4cee-f170-26b8392a339a"
      },
      "source": [
        "uploaded = files.upload()"
      ],
      "execution_count": null,
      "outputs": [
        {
          "output_type": "display_data",
          "data": {
            "text/html": [
              "\n",
              "     <input type=\"file\" id=\"files-9aa4a056-b81f-40c4-be1a-5c3ef89e6dde\" name=\"files[]\" multiple disabled\n",
              "        style=\"border:none\" />\n",
              "     <output id=\"result-9aa4a056-b81f-40c4-be1a-5c3ef89e6dde\">\n",
              "      Upload widget is only available when the cell has been executed in the\n",
              "      current browser session. Please rerun this cell to enable.\n",
              "      </output>\n",
              "      <script src=\"/nbextensions/google.colab/files.js\"></script> "
            ],
            "text/plain": [
              "<IPython.core.display.HTML object>"
            ]
          },
          "metadata": {
            "tags": []
          }
        },
        {
          "output_type": "stream",
          "text": [
            "Saving P7.png to P7.png\n"
          ],
          "name": "stdout"
        }
      ]
    },
    {
      "cell_type": "markdown",
      "metadata": {
        "id": "c15KtEYLZItY"
      },
      "source": [
        "(Adjunto una imagen por si no carga el geogebra)"
      ]
    },
    {
      "cell_type": "code",
      "metadata": {
        "colab": {
          "base_uri": "https://localhost:8080/",
          "height": 458
        },
        "id": "JqUXIufjYk6i",
        "outputId": "b27a6feb-487e-4760-da97-7df6e87646c2"
      },
      "source": [
        "Image('P7.png',width=750)"
      ],
      "execution_count": null,
      "outputs": [
        {
          "output_type": "execute_result",
          "data": {
            "image/png": "[encoded data removed]",
            "text/plain": [
              "<IPython.core.display.Image object>"
            ]
          },
          "metadata": {
            "tags": [],
            "image/png": {
              "width": 750
            }
          },
          "execution_count": 56
        }
      ]
    },
    {
      "cell_type": "code",
      "metadata": {
        "colab": {
          "base_uri": "https://localhost:8080/",
          "height": 801
        },
        "id": "TmShHlrqC5qU",
        "outputId": "6cade45f-9529-4dc9-ff62-5dca4dbf90e8"
      },
      "source": [
        "iframe = '<iframe \\  scrolling=\"no\" \\  src=\"https://www.geogebra.org/3d/kxt5tf7p\" \\  width=\"980px\" \\  height=\"780px\" \\  style=\"border:0px;\"> \\  </iframe>'\n",
        "display.HTML(iframe)"
      ],
      "execution_count": null,
      "outputs": [
        {
          "output_type": "execute_result",
          "data": {
            "text/html": [
              "<iframe \\  scrolling=\"no\" \\  src=\"https://www.geogebra.org/3d/kxt5tf7p\" \\  width=\"980px\" \\  height=\"780px\" \\  style=\"border:0px;\"> \\  </iframe>"
            ],
            "text/plain": [
              "<IPython.core.display.HTML object>"
            ]
          },
          "metadata": {
            "tags": []
          },
          "execution_count": 46
        }
      ]
    },
    {
      "cell_type": "markdown",
      "metadata": {
        "id": "4D6mrmMnKfKa"
      },
      "source": [
        "Además calculando sus cuvas de nivel nos hacemos una idea de que puntos podemos tomar para los optimos."
      ]
    },
    {
      "cell_type": "code",
      "metadata": {
        "colab": {
          "base_uri": "https://localhost:8080/",
          "height": 801
        },
        "id": "vWndEfZlKN8Y",
        "outputId": "81c958c3-b46c-4ede-d83f-f0a41056038c"
      },
      "source": [
        "iframe = '<iframe \\  scrolling=\"no\" \\  src=\"https://www.desmos.com/calculator/dvv58zt9bs\" \\  width=\"980px\" \\  height=\"780px\" \\  style=\"border:0px;\"> \\  </iframe>'\n",
        "display.HTML(iframe)"
      ],
      "execution_count": null,
      "outputs": [
        {
          "output_type": "execute_result",
          "data": {
            "text/html": [
              "<iframe \\  scrolling=\"no\" \\  src=\"https://www.desmos.com/calculator/dvv58zt9bs\" \\  width=\"980px\" \\  height=\"780px\" \\  style=\"border:0px;\"> \\  </iframe>"
            ],
            "text/plain": [
              "<IPython.core.display.HTML object>"
            ]
          },
          "metadata": {
            "tags": []
          },
          "execution_count": 47
        }
      ]
    },
    {
      "cell_type": "markdown",
      "metadata": {
        "id": "1mE6V4nCNe-t"
      },
      "source": [
        "Usando el metodo optimize calcularemos todos los mínimos locales:"
      ]
    },
    {
      "cell_type": "code",
      "metadata": {
        "colab": {
          "base_uri": "https://localhost:8080/"
        },
        "id": "NviqoCWzNixB",
        "outputId": "3197fc89-f17d-4f39-88fe-9a1bfa91a25c"
      },
      "source": [
        "X=np.arange(-1, 1.2, 0.2).tolist() #Crea la lista de coordenadas del eje x [-1, -0.8, ..., 0.8, 1 ]\n",
        "Y=np.arange(-0.9, 1.1, 0.2).tolist() #Crea la lista de coordenadas del eje y [-0.9, -0.7, ..., 0.7, 0.9 ]\n",
        "\n",
        "def f(x):\n",
        "   return np.exp(np.sin(5*(np.pi)*x[0])**2) * np.exp(np.cos(5*(np.pi)*x[1])**2)\n",
        "optimize.minimize(f, np.array([0,0.9]), bounds=((-1, 1), (-1, 1)),tol=1E-10)  \n",
        "\n",
        "c=0\n",
        "for i in range(len(X)):\n",
        "  for j in range(len(Y)): # con estos dos for se recorren todas las combinaciónes de cordenadas (X_i,Y_i) y miran el mínimo cercano a ese punto\n",
        "    c+=1\n",
        "    min = optimize.minimize(f, np.array([X[i],Y[j]]), bounds=((-1, 1), (-1, 1)),tol=1E-10) \n",
        "    print(\"Minimo local\", c, min, end=\"\\n \\n\" ) # imprimimos todos los mínimos\n"
      ],
      "execution_count": null,
      "outputs": [
        {
          "output_type": "stream",
          "text": [
            "Minimo local 1       fun: 1.0\n",
            " hess_inv: <2x2 LbfgsInvHessProduct with dtype=float64>\n",
            "      jac: array([2.46469511e-06, 2.17603713e-06])\n",
            "  message: b'CONVERGENCE: REL_REDUCTION_OF_F_<=_FACTR*EPSMCH'\n",
            "     nfev: 18\n",
            "      nit: 1\n",
            "   status: 0\n",
            "  success: True\n",
            "        x: array([-1. , -0.9])\n",
            " \n",
            "Minimo local 2       fun: 1.0\n",
            " hess_inv: <2x2 LbfgsInvHessProduct with dtype=float64>\n",
            "      jac: array([2.46469511e-06, 2.17603713e-06])\n",
            "  message: b'CONVERGENCE: REL_REDUCTION_OF_F_<=_FACTR*EPSMCH'\n",
            "     nfev: 18\n",
            "      nit: 1\n",
            "   status: 0\n",
            "  success: True\n",
            "        x: array([-1. , -0.7])\n",
            " \n",
            "Minimo local 3       fun: 1.0\n",
            " hess_inv: <2x2 LbfgsInvHessProduct with dtype=float64>\n",
            "      jac: array([2.46469511e-06, 2.17603713e-06])\n",
            "  message: b'CONVERGENCE: REL_REDUCTION_OF_F_<=_FACTR*EPSMCH'\n",
            "     nfev: 18\n",
            "      nit: 1\n",
            "   status: 0\n",
            "  success: True\n",
            "        x: array([-1. , -0.5])\n",
            " \n",
            "Minimo local 4       fun: 1.0\n",
            " hess_inv: <2x2 LbfgsInvHessProduct with dtype=float64>\n",
            "      jac: array([2.46469511e-06, 2.17603713e-06])\n",
            "  message: b'CONVERGENCE: REL_REDUCTION_OF_F_<=_FACTR*EPSMCH'\n",
            "     nfev: 18\n",
            "      nit: 1\n",
            "   status: 0\n",
            "  success: True\n",
            "        x: array([-1. , -0.3])\n",
            " \n",
            "Minimo local 5       fun: 1.0\n",
            " hess_inv: <2x2 LbfgsInvHessProduct with dtype=float64>\n",
            "      jac: array([2.46469511e-06, 2.17603713e-06])\n",
            "  message: b'CONVERGENCE: REL_REDUCTION_OF_F_<=_FACTR*EPSMCH'\n",
            "     nfev: 18\n",
            "      nit: 1\n",
            "   status: 0\n",
            "  success: True\n",
            "        x: array([-1. , -0.1])\n",
            " \n",
            "Minimo local 6       fun: 1.0\n",
            " hess_inv: <2x2 LbfgsInvHessProduct with dtype=float64>\n",
            "      jac: array([2.46469511e-06, 2.17603713e-06])\n",
            "  message: b'CONVERGENCE: REL_REDUCTION_OF_F_<=_FACTR*EPSMCH'\n",
            "     nfev: 18\n",
            "      nit: 1\n",
            "   status: 0\n",
            "  success: True\n",
            "        x: array([-1. ,  0.1])\n",
            " \n",
            "Minimo local 7       fun: 1.0\n",
            " hess_inv: <2x2 LbfgsInvHessProduct with dtype=float64>\n",
            "      jac: array([2.46469511e-06, 2.17603713e-06])\n",
            "  message: b'CONVERGENCE: REL_REDUCTION_OF_F_<=_FACTR*EPSMCH'\n",
            "     nfev: 18\n",
            "      nit: 1\n",
            "   status: 0\n",
            "  success: True\n",
            "        x: array([-1. ,  0.3])\n",
            " \n",
            "Minimo local 8       fun: 1.0\n",
            " hess_inv: <2x2 LbfgsInvHessProduct with dtype=float64>\n",
            "      jac: array([2.46469511e-06, 2.17603713e-06])\n",
            "  message: b'CONVERGENCE: REL_REDUCTION_OF_F_<=_FACTR*EPSMCH'\n",
            "     nfev: 18\n",
            "      nit: 1\n",
            "   status: 0\n",
            "  success: True\n",
            "        x: array([-1. ,  0.5])\n",
            " \n",
            "Minimo local 9       fun: 1.0\n",
            " hess_inv: <2x2 LbfgsInvHessProduct with dtype=float64>\n",
            "      jac: array([2.46469511e-06, 2.17603713e-06])\n",
            "  message: b'CONVERGENCE: REL_REDUCTION_OF_F_<=_FACTR*EPSMCH'\n",
            "     nfev: 18\n",
            "      nit: 1\n",
            "   status: 0\n",
            "  success: True\n",
            "        x: array([-1. ,  0.7])\n",
            " \n",
            "Minimo local 10       fun: 1.0\n",
            " hess_inv: <2x2 LbfgsInvHessProduct with dtype=float64>\n",
            "      jac: array([2.46469511e-06, 2.17603713e-06])\n",
            "  message: b'CONVERGENCE: REL_REDUCTION_OF_F_<=_FACTR*EPSMCH'\n",
            "     nfev: 18\n",
            "      nit: 1\n",
            "   status: 0\n",
            "  success: True\n",
            "        x: array([-1. ,  0.9])\n",
            " \n",
            "Minimo local 11       fun: 1.0\n",
            " hess_inv: <2x2 LbfgsInvHessProduct with dtype=float64>\n",
            "      jac: array([2.17603713e-06, 2.17603713e-06])\n",
            "  message: b'CONVERGENCE: REL_REDUCTION_OF_F_<=_FACTR*EPSMCH'\n",
            "     nfev: 18\n",
            "      nit: 1\n",
            "   status: 0\n",
            "  success: True\n",
            "        x: array([-0.8, -0.9])\n",
            " \n",
            "Minimo local 12       fun: 1.0\n",
            " hess_inv: <2x2 LbfgsInvHessProduct with dtype=float64>\n",
            "      jac: array([2.17603713e-06, 2.17603713e-06])\n",
            "  message: b'CONVERGENCE: REL_REDUCTION_OF_F_<=_FACTR*EPSMCH'\n",
            "     nfev: 18\n",
            "      nit: 1\n",
            "   status: 0\n",
            "  success: True\n",
            "        x: array([-0.8, -0.7])\n",
            " \n",
            "Minimo local 13       fun: 1.0\n",
            " hess_inv: <2x2 LbfgsInvHessProduct with dtype=float64>\n",
            "      jac: array([2.17603713e-06, 2.17603713e-06])\n",
            "  message: b'CONVERGENCE: REL_REDUCTION_OF_F_<=_FACTR*EPSMCH'\n",
            "     nfev: 18\n",
            "      nit: 1\n",
            "   status: 0\n",
            "  success: True\n",
            "        x: array([-0.8, -0.5])\n",
            " \n",
            "Minimo local 14       fun: 1.0\n",
            " hess_inv: <2x2 LbfgsInvHessProduct with dtype=float64>\n",
            "      jac: array([2.17603713e-06, 2.17603713e-06])\n",
            "  message: b'CONVERGENCE: REL_REDUCTION_OF_F_<=_FACTR*EPSMCH'\n",
            "     nfev: 18\n",
            "      nit: 1\n",
            "   status: 0\n",
            "  success: True\n",
            "        x: array([-0.8, -0.3])\n",
            " \n",
            "Minimo local 15       fun: 1.0\n",
            " hess_inv: <2x2 LbfgsInvHessProduct with dtype=float64>\n",
            "      jac: array([2.17603713e-06, 2.17603713e-06])\n",
            "  message: b'CONVERGENCE: REL_REDUCTION_OF_F_<=_FACTR*EPSMCH'\n",
            "     nfev: 18\n",
            "      nit: 1\n",
            "   status: 0\n",
            "  success: True\n",
            "        x: array([-0.8, -0.1])\n",
            " \n",
            "Minimo local 16       fun: 1.0\n",
            " hess_inv: <2x2 LbfgsInvHessProduct with dtype=float64>\n",
            "      jac: array([2.17603713e-06, 2.17603713e-06])\n",
            "  message: b'CONVERGENCE: REL_REDUCTION_OF_F_<=_FACTR*EPSMCH'\n",
            "     nfev: 18\n",
            "      nit: 1\n",
            "   status: 0\n",
            "  success: True\n",
            "        x: array([-0.8,  0.1])\n",
            " \n",
            "Minimo local 17       fun: 1.0\n",
            " hess_inv: <2x2 LbfgsInvHessProduct with dtype=float64>\n",
            "      jac: array([2.17603713e-06, 2.17603713e-06])\n",
            "  message: b'CONVERGENCE: REL_REDUCTION_OF_F_<=_FACTR*EPSMCH'\n",
            "     nfev: 18\n",
            "      nit: 1\n",
            "   status: 0\n",
            "  success: True\n",
            "        x: array([-0.8,  0.3])\n",
            " \n",
            "Minimo local 18       fun: 1.0\n",
            " hess_inv: <2x2 LbfgsInvHessProduct with dtype=float64>\n",
            "      jac: array([2.17603713e-06, 2.17603713e-06])\n",
            "  message: b'CONVERGENCE: REL_REDUCTION_OF_F_<=_FACTR*EPSMCH'\n",
            "     nfev: 18\n",
            "      nit: 1\n",
            "   status: 0\n",
            "  success: True\n",
            "        x: array([-0.8,  0.5])\n",
            " \n",
            "Minimo local 19       fun: 1.0\n",
            " hess_inv: <2x2 LbfgsInvHessProduct with dtype=float64>\n",
            "      jac: array([2.17603713e-06, 2.17603713e-06])\n",
            "  message: b'CONVERGENCE: REL_REDUCTION_OF_F_<=_FACTR*EPSMCH'\n",
            "     nfev: 18\n",
            "      nit: 1\n",
            "   status: 0\n",
            "  success: True\n",
            "        x: array([-0.8,  0.7])\n",
            " \n",
            "Minimo local 20       fun: 1.0\n",
            " hess_inv: <2x2 LbfgsInvHessProduct with dtype=float64>\n",
            "      jac: array([2.17603713e-06, 2.17603713e-06])\n",
            "  message: b'CONVERGENCE: REL_REDUCTION_OF_F_<=_FACTR*EPSMCH'\n",
            "     nfev: 18\n",
            "      nit: 1\n",
            "   status: 0\n",
            "  success: True\n",
            "        x: array([-0.8,  0.9])\n",
            " \n",
            "Minimo local 21       fun: 1.0\n",
            " hess_inv: <2x2 LbfgsInvHessProduct with dtype=float64>\n",
            "      jac: array([2.17603713e-06, 2.17603713e-06])\n",
            "  message: b'CONVERGENCE: REL_REDUCTION_OF_F_<=_FACTR*EPSMCH'\n",
            "     nfev: 18\n",
            "      nit: 1\n",
            "   status: 0\n",
            "  success: True\n",
            "        x: array([-0.6, -0.9])\n",
            " \n",
            "Minimo local 22       fun: 1.0\n",
            " hess_inv: <2x2 LbfgsInvHessProduct with dtype=float64>\n",
            "      jac: array([2.17603713e-06, 2.17603713e-06])\n",
            "  message: b'CONVERGENCE: REL_REDUCTION_OF_F_<=_FACTR*EPSMCH'\n",
            "     nfev: 18\n",
            "      nit: 1\n",
            "   status: 0\n",
            "  success: True\n",
            "        x: array([-0.6, -0.7])\n",
            " \n",
            "Minimo local 23       fun: 1.0\n",
            " hess_inv: <2x2 LbfgsInvHessProduct with dtype=float64>\n",
            "      jac: array([2.17603713e-06, 2.17603713e-06])\n",
            "  message: b'CONVERGENCE: REL_REDUCTION_OF_F_<=_FACTR*EPSMCH'\n",
            "     nfev: 18\n",
            "      nit: 1\n",
            "   status: 0\n",
            "  success: True\n",
            "        x: array([-0.6, -0.5])\n",
            " \n",
            "Minimo local 24       fun: 1.0\n",
            " hess_inv: <2x2 LbfgsInvHessProduct with dtype=float64>\n",
            "      jac: array([2.17603713e-06, 2.17603713e-06])\n",
            "  message: b'CONVERGENCE: REL_REDUCTION_OF_F_<=_FACTR*EPSMCH'\n",
            "     nfev: 18\n",
            "      nit: 1\n",
            "   status: 0\n",
            "  success: True\n",
            "        x: array([-0.6, -0.3])\n",
            " \n",
            "Minimo local 25       fun: 1.0\n",
            " hess_inv: <2x2 LbfgsInvHessProduct with dtype=float64>\n",
            "      jac: array([2.17603713e-06, 2.17603713e-06])\n",
            "  message: b'CONVERGENCE: REL_REDUCTION_OF_F_<=_FACTR*EPSMCH'\n",
            "     nfev: 18\n",
            "      nit: 1\n",
            "   status: 0\n",
            "  success: True\n",
            "        x: array([-0.6, -0.1])\n",
            " \n",
            "Minimo local 26       fun: 1.0\n",
            " hess_inv: <2x2 LbfgsInvHessProduct with dtype=float64>\n",
            "      jac: array([2.17603713e-06, 2.17603713e-06])\n",
            "  message: b'CONVERGENCE: REL_REDUCTION_OF_F_<=_FACTR*EPSMCH'\n",
            "     nfev: 18\n",
            "      nit: 1\n",
            "   status: 0\n",
            "  success: True\n",
            "        x: array([-0.6,  0.1])\n",
            " \n",
            "Minimo local 27       fun: 1.0\n",
            " hess_inv: <2x2 LbfgsInvHessProduct with dtype=float64>\n",
            "      jac: array([2.17603713e-06, 2.17603713e-06])\n",
            "  message: b'CONVERGENCE: REL_REDUCTION_OF_F_<=_FACTR*EPSMCH'\n",
            "     nfev: 18\n",
            "      nit: 1\n",
            "   status: 0\n",
            "  success: True\n",
            "        x: array([-0.6,  0.3])\n",
            " \n",
            "Minimo local 28       fun: 1.0\n",
            " hess_inv: <2x2 LbfgsInvHessProduct with dtype=float64>\n",
            "      jac: array([2.17603713e-06, 2.17603713e-06])\n",
            "  message: b'CONVERGENCE: REL_REDUCTION_OF_F_<=_FACTR*EPSMCH'\n",
            "     nfev: 18\n",
            "      nit: 1\n",
            "   status: 0\n",
            "  success: True\n",
            "        x: array([-0.6,  0.5])\n",
            " \n",
            "Minimo local 29       fun: 1.0\n",
            " hess_inv: <2x2 LbfgsInvHessProduct with dtype=float64>\n",
            "      jac: array([2.17603713e-06, 2.17603713e-06])\n",
            "  message: b'CONVERGENCE: REL_REDUCTION_OF_F_<=_FACTR*EPSMCH'\n",
            "     nfev: 18\n",
            "      nit: 1\n",
            "   status: 0\n",
            "  success: True\n",
            "        x: array([-0.6,  0.7])\n",
            " \n",
            "Minimo local 30       fun: 1.0\n",
            " hess_inv: <2x2 LbfgsInvHessProduct with dtype=float64>\n",
            "      jac: array([2.17603713e-06, 2.17603713e-06])\n",
            "  message: b'CONVERGENCE: REL_REDUCTION_OF_F_<=_FACTR*EPSMCH'\n",
            "     nfev: 18\n",
            "      nit: 1\n",
            "   status: 0\n",
            "  success: True\n",
            "        x: array([-0.6,  0.9])\n",
            " \n",
            "Minimo local 31       fun: 1.0\n",
            " hess_inv: <2x2 LbfgsInvHessProduct with dtype=float64>\n",
            "      jac: array([2.17603713e-06, 2.17603713e-06])\n",
            "  message: b'CONVERGENCE: REL_REDUCTION_OF_F_<=_FACTR*EPSMCH'\n",
            "     nfev: 18\n",
            "      nit: 1\n",
            "   status: 0\n",
            "  success: True\n",
            "        x: array([-0.4, -0.9])\n",
            " \n",
            "Minimo local 32       fun: 1.0\n",
            " hess_inv: <2x2 LbfgsInvHessProduct with dtype=float64>\n",
            "      jac: array([2.17603713e-06, 2.17603713e-06])\n",
            "  message: b'CONVERGENCE: REL_REDUCTION_OF_F_<=_FACTR*EPSMCH'\n",
            "     nfev: 18\n",
            "      nit: 1\n",
            "   status: 0\n",
            "  success: True\n",
            "        x: array([-0.4, -0.7])\n",
            " \n",
            "Minimo local 33       fun: 1.0\n",
            " hess_inv: <2x2 LbfgsInvHessProduct with dtype=float64>\n",
            "      jac: array([2.17603713e-06, 2.17603713e-06])\n",
            "  message: b'CONVERGENCE: REL_REDUCTION_OF_F_<=_FACTR*EPSMCH'\n",
            "     nfev: 18\n",
            "      nit: 1\n",
            "   status: 0\n",
            "  success: True\n",
            "        x: array([-0.4, -0.5])\n",
            " \n",
            "Minimo local 34       fun: 1.0\n",
            " hess_inv: <2x2 LbfgsInvHessProduct with dtype=float64>\n",
            "      jac: array([2.17603713e-06, 2.17603713e-06])\n",
            "  message: b'CONVERGENCE: REL_REDUCTION_OF_F_<=_FACTR*EPSMCH'\n",
            "     nfev: 18\n",
            "      nit: 1\n",
            "   status: 0\n",
            "  success: True\n",
            "        x: array([-0.4, -0.3])\n",
            " \n",
            "Minimo local 35       fun: 1.0\n",
            " hess_inv: <2x2 LbfgsInvHessProduct with dtype=float64>\n",
            "      jac: array([2.17603713e-06, 2.17603713e-06])\n",
            "  message: b'CONVERGENCE: REL_REDUCTION_OF_F_<=_FACTR*EPSMCH'\n",
            "     nfev: 18\n",
            "      nit: 1\n",
            "   status: 0\n",
            "  success: True\n",
            "        x: array([-0.4, -0.1])\n",
            " \n",
            "Minimo local 36       fun: 1.0\n",
            " hess_inv: <2x2 LbfgsInvHessProduct with dtype=float64>\n",
            "      jac: array([2.17603713e-06, 2.17603713e-06])\n",
            "  message: b'CONVERGENCE: REL_REDUCTION_OF_F_<=_FACTR*EPSMCH'\n",
            "     nfev: 18\n",
            "      nit: 1\n",
            "   status: 0\n",
            "  success: True\n",
            "        x: array([-0.4,  0.1])\n",
            " \n",
            "Minimo local 37       fun: 1.0\n",
            " hess_inv: <2x2 LbfgsInvHessProduct with dtype=float64>\n",
            "      jac: array([2.17603713e-06, 2.17603713e-06])\n",
            "  message: b'CONVERGENCE: REL_REDUCTION_OF_F_<=_FACTR*EPSMCH'\n",
            "     nfev: 18\n",
            "      nit: 1\n",
            "   status: 0\n",
            "  success: True\n",
            "        x: array([-0.4,  0.3])\n",
            " \n",
            "Minimo local 38       fun: 1.0\n",
            " hess_inv: <2x2 LbfgsInvHessProduct with dtype=float64>\n",
            "      jac: array([2.17603713e-06, 2.17603713e-06])\n",
            "  message: b'CONVERGENCE: REL_REDUCTION_OF_F_<=_FACTR*EPSMCH'\n",
            "     nfev: 18\n",
            "      nit: 1\n",
            "   status: 0\n",
            "  success: True\n",
            "        x: array([-0.4,  0.5])\n",
            " \n",
            "Minimo local 39       fun: 1.0\n",
            " hess_inv: <2x2 LbfgsInvHessProduct with dtype=float64>\n",
            "      jac: array([2.17603713e-06, 2.17603713e-06])\n",
            "  message: b'CONVERGENCE: REL_REDUCTION_OF_F_<=_FACTR*EPSMCH'\n",
            "     nfev: 18\n",
            "      nit: 1\n",
            "   status: 0\n",
            "  success: True\n",
            "        x: array([-0.4,  0.7])\n",
            " \n",
            "Minimo local 40       fun: 1.0\n",
            " hess_inv: <2x2 LbfgsInvHessProduct with dtype=float64>\n",
            "      jac: array([2.17603713e-06, 2.17603713e-06])\n",
            "  message: b'CONVERGENCE: REL_REDUCTION_OF_F_<=_FACTR*EPSMCH'\n",
            "     nfev: 18\n",
            "      nit: 1\n",
            "   status: 0\n",
            "  success: True\n",
            "        x: array([-0.4,  0.9])\n",
            " \n",
            "Minimo local 41       fun: 1.0\n",
            " hess_inv: <2x2 LbfgsInvHessProduct with dtype=float64>\n",
            "      jac: array([2.17603713e-06, 2.17603713e-06])\n",
            "  message: b'CONVERGENCE: REL_REDUCTION_OF_F_<=_FACTR*EPSMCH'\n",
            "     nfev: 18\n",
            "      nit: 1\n",
            "   status: 0\n",
            "  success: True\n",
            "        x: array([-0.2, -0.9])\n",
            " \n",
            "Minimo local 42       fun: 1.0\n",
            " hess_inv: <2x2 LbfgsInvHessProduct with dtype=float64>\n",
            "      jac: array([2.17603713e-06, 2.17603713e-06])\n",
            "  message: b'CONVERGENCE: REL_REDUCTION_OF_F_<=_FACTR*EPSMCH'\n",
            "     nfev: 18\n",
            "      nit: 1\n",
            "   status: 0\n",
            "  success: True\n",
            "        x: array([-0.2, -0.7])\n",
            " \n",
            "Minimo local 43       fun: 1.0\n",
            " hess_inv: <2x2 LbfgsInvHessProduct with dtype=float64>\n",
            "      jac: array([2.17603713e-06, 2.17603713e-06])\n",
            "  message: b'CONVERGENCE: REL_REDUCTION_OF_F_<=_FACTR*EPSMCH'\n",
            "     nfev: 18\n",
            "      nit: 1\n",
            "   status: 0\n",
            "  success: True\n",
            "        x: array([-0.2, -0.5])\n",
            " \n",
            "Minimo local 44       fun: 1.0\n",
            " hess_inv: <2x2 LbfgsInvHessProduct with dtype=float64>\n",
            "      jac: array([2.17603713e-06, 2.17603713e-06])\n",
            "  message: b'CONVERGENCE: REL_REDUCTION_OF_F_<=_FACTR*EPSMCH'\n",
            "     nfev: 18\n",
            "      nit: 1\n",
            "   status: 0\n",
            "  success: True\n",
            "        x: array([-0.2, -0.3])\n",
            " \n",
            "Minimo local 45       fun: 1.0\n",
            " hess_inv: <2x2 LbfgsInvHessProduct with dtype=float64>\n",
            "      jac: array([2.17603713e-06, 2.17603713e-06])\n",
            "  message: b'CONVERGENCE: REL_REDUCTION_OF_F_<=_FACTR*EPSMCH'\n",
            "     nfev: 18\n",
            "      nit: 1\n",
            "   status: 0\n",
            "  success: True\n",
            "        x: array([-0.2, -0.1])\n",
            " \n",
            "Minimo local 46       fun: 1.0\n",
            " hess_inv: <2x2 LbfgsInvHessProduct with dtype=float64>\n",
            "      jac: array([2.17603713e-06, 2.17603713e-06])\n",
            "  message: b'CONVERGENCE: REL_REDUCTION_OF_F_<=_FACTR*EPSMCH'\n",
            "     nfev: 18\n",
            "      nit: 1\n",
            "   status: 0\n",
            "  success: True\n",
            "        x: array([-0.2,  0.1])\n",
            " \n",
            "Minimo local 47       fun: 1.0\n",
            " hess_inv: <2x2 LbfgsInvHessProduct with dtype=float64>\n",
            "      jac: array([2.17603713e-06, 2.17603713e-06])\n",
            "  message: b'CONVERGENCE: REL_REDUCTION_OF_F_<=_FACTR*EPSMCH'\n",
            "     nfev: 18\n",
            "      nit: 1\n",
            "   status: 0\n",
            "  success: True\n",
            "        x: array([-0.2,  0.3])\n",
            " \n",
            "Minimo local 48       fun: 1.0\n",
            " hess_inv: <2x2 LbfgsInvHessProduct with dtype=float64>\n",
            "      jac: array([2.17603713e-06, 2.17603713e-06])\n",
            "  message: b'CONVERGENCE: REL_REDUCTION_OF_F_<=_FACTR*EPSMCH'\n",
            "     nfev: 18\n",
            "      nit: 1\n",
            "   status: 0\n",
            "  success: True\n",
            "        x: array([-0.2,  0.5])\n",
            " \n",
            "Minimo local 49       fun: 1.0\n",
            " hess_inv: <2x2 LbfgsInvHessProduct with dtype=float64>\n",
            "      jac: array([2.17603713e-06, 2.17603713e-06])\n",
            "  message: b'CONVERGENCE: REL_REDUCTION_OF_F_<=_FACTR*EPSMCH'\n",
            "     nfev: 18\n",
            "      nit: 1\n",
            "   status: 0\n",
            "  success: True\n",
            "        x: array([-0.2,  0.7])\n",
            " \n",
            "Minimo local 50       fun: 1.0\n",
            " hess_inv: <2x2 LbfgsInvHessProduct with dtype=float64>\n",
            "      jac: array([2.17603713e-06, 2.17603713e-06])\n",
            "  message: b'CONVERGENCE: REL_REDUCTION_OF_F_<=_FACTR*EPSMCH'\n",
            "     nfev: 18\n",
            "      nit: 1\n",
            "   status: 0\n",
            "  success: True\n",
            "        x: array([-0.2,  0.9])\n",
            " \n",
            "Minimo local 51       fun: 1.0\n",
            " hess_inv: <2x2 LbfgsInvHessProduct with dtype=float64>\n",
            "      jac: array([2.17603713e-06, 2.17603713e-06])\n",
            "  message: b'CONVERGENCE: REL_REDUCTION_OF_F_<=_FACTR*EPSMCH'\n",
            "     nfev: 18\n",
            "      nit: 1\n",
            "   status: 0\n",
            "  success: True\n",
            "        x: array([-5.98317690e-10, -9.00000001e-01])\n",
            " \n",
            "Minimo local 52       fun: 1.0\n",
            " hess_inv: <2x2 LbfgsInvHessProduct with dtype=float64>\n",
            "      jac: array([2.17603713e-06, 2.17603713e-06])\n",
            "  message: b'CONVERGENCE: REL_REDUCTION_OF_F_<=_FACTR*EPSMCH'\n",
            "     nfev: 18\n",
            "      nit: 1\n",
            "   status: 0\n",
            "  success: True\n",
            "        x: array([-5.98317690e-10, -7.00000001e-01])\n",
            " \n",
            "Minimo local 53       fun: 1.0\n",
            " hess_inv: <2x2 LbfgsInvHessProduct with dtype=float64>\n",
            "      jac: array([2.17603713e-06, 2.17603713e-06])\n",
            "  message: b'CONVERGENCE: REL_REDUCTION_OF_F_<=_FACTR*EPSMCH'\n",
            "     nfev: 18\n",
            "      nit: 1\n",
            "   status: 0\n",
            "  success: True\n",
            "        x: array([-5.98317690e-10, -5.00000001e-01])\n",
            " \n",
            "Minimo local 54       fun: 1.0\n",
            " hess_inv: <2x2 LbfgsInvHessProduct with dtype=float64>\n",
            "      jac: array([2.17603713e-06, 2.17603713e-06])\n",
            "  message: b'CONVERGENCE: REL_REDUCTION_OF_F_<=_FACTR*EPSMCH'\n",
            "     nfev: 18\n",
            "      nit: 1\n",
            "   status: 0\n",
            "  success: True\n",
            "        x: array([-5.98317690e-10, -3.00000001e-01])\n",
            " \n",
            "Minimo local 55       fun: 1.0\n",
            " hess_inv: <2x2 LbfgsInvHessProduct with dtype=float64>\n",
            "      jac: array([2.17603713e-06, 2.17603713e-06])\n",
            "  message: b'CONVERGENCE: REL_REDUCTION_OF_F_<=_FACTR*EPSMCH'\n",
            "     nfev: 18\n",
            "      nit: 1\n",
            "   status: 0\n",
            "  success: True\n",
            "        x: array([-5.98317690e-10, -1.00000001e-01])\n",
            " \n",
            "Minimo local 56       fun: 1.0\n",
            " hess_inv: <2x2 LbfgsInvHessProduct with dtype=float64>\n",
            "      jac: array([2.17603713e-06, 2.17603713e-06])\n",
            "  message: b'CONVERGENCE: REL_REDUCTION_OF_F_<=_FACTR*EPSMCH'\n",
            "     nfev: 18\n",
            "      nit: 1\n",
            "   status: 0\n",
            "  success: True\n",
            "        x: array([-5.98317690e-10,  9.99999994e-02])\n",
            " \n",
            "Minimo local 57       fun: 1.0\n",
            " hess_inv: <2x2 LbfgsInvHessProduct with dtype=float64>\n",
            "      jac: array([2.17603713e-06, 2.17603713e-06])\n",
            "  message: b'CONVERGENCE: REL_REDUCTION_OF_F_<=_FACTR*EPSMCH'\n",
            "     nfev: 18\n",
            "      nit: 1\n",
            "   status: 0\n",
            "  success: True\n",
            "        x: array([-5.98317690e-10,  2.99999999e-01])\n",
            " \n",
            "Minimo local 58       fun: 1.0\n",
            " hess_inv: <2x2 LbfgsInvHessProduct with dtype=float64>\n",
            "      jac: array([2.17603713e-06, 2.17603713e-06])\n",
            "  message: b'CONVERGENCE: REL_REDUCTION_OF_F_<=_FACTR*EPSMCH'\n",
            "     nfev: 18\n",
            "      nit: 1\n",
            "   status: 0\n",
            "  success: True\n",
            "        x: array([-5.98317690e-10,  4.99999999e-01])\n",
            " \n",
            "Minimo local 59       fun: 1.0\n",
            " hess_inv: <2x2 LbfgsInvHessProduct with dtype=float64>\n",
            "      jac: array([2.17603713e-06, 2.17603713e-06])\n",
            "  message: b'CONVERGENCE: REL_REDUCTION_OF_F_<=_FACTR*EPSMCH'\n",
            "     nfev: 18\n",
            "      nit: 1\n",
            "   status: 0\n",
            "  success: True\n",
            "        x: array([-5.98317690e-10,  6.99999999e-01])\n",
            " \n",
            "Minimo local 60       fun: 1.0\n",
            " hess_inv: <2x2 LbfgsInvHessProduct with dtype=float64>\n",
            "      jac: array([2.17603713e-06, 2.17603713e-06])\n",
            "  message: b'CONVERGENCE: REL_REDUCTION_OF_F_<=_FACTR*EPSMCH'\n",
            "     nfev: 18\n",
            "      nit: 1\n",
            "   status: 0\n",
            "  success: True\n",
            "        x: array([-5.98317690e-10,  8.99999999e-01])\n",
            " \n",
            "Minimo local 61       fun: 1.0\n",
            " hess_inv: <2x2 LbfgsInvHessProduct with dtype=float64>\n",
            "      jac: array([2.17603713e-06, 2.17603713e-06])\n",
            "  message: b'CONVERGENCE: REL_REDUCTION_OF_F_<=_FACTR*EPSMCH'\n",
            "     nfev: 18\n",
            "      nit: 1\n",
            "   status: 0\n",
            "  success: True\n",
            "        x: array([ 0.2, -0.9])\n",
            " \n",
            "Minimo local 62       fun: 1.0\n",
            " hess_inv: <2x2 LbfgsInvHessProduct with dtype=float64>\n",
            "      jac: array([2.17603713e-06, 2.17603713e-06])\n",
            "  message: b'CONVERGENCE: REL_REDUCTION_OF_F_<=_FACTR*EPSMCH'\n",
            "     nfev: 18\n",
            "      nit: 1\n",
            "   status: 0\n",
            "  success: True\n",
            "        x: array([ 0.2, -0.7])\n",
            " \n",
            "Minimo local 63       fun: 1.0\n",
            " hess_inv: <2x2 LbfgsInvHessProduct with dtype=float64>\n",
            "      jac: array([2.17603713e-06, 2.17603713e-06])\n",
            "  message: b'CONVERGENCE: REL_REDUCTION_OF_F_<=_FACTR*EPSMCH'\n",
            "     nfev: 18\n",
            "      nit: 1\n",
            "   status: 0\n",
            "  success: True\n",
            "        x: array([ 0.2, -0.5])\n",
            " \n",
            "Minimo local 64       fun: 1.0\n",
            " hess_inv: <2x2 LbfgsInvHessProduct with dtype=float64>\n",
            "      jac: array([2.17603713e-06, 2.17603713e-06])\n",
            "  message: b'CONVERGENCE: REL_REDUCTION_OF_F_<=_FACTR*EPSMCH'\n",
            "     nfev: 18\n",
            "      nit: 1\n",
            "   status: 0\n",
            "  success: True\n",
            "        x: array([ 0.2, -0.3])\n",
            " \n",
            "Minimo local 65       fun: 1.0\n",
            " hess_inv: <2x2 LbfgsInvHessProduct with dtype=float64>\n",
            "      jac: array([2.17603713e-06, 2.17603713e-06])\n",
            "  message: b'CONVERGENCE: REL_REDUCTION_OF_F_<=_FACTR*EPSMCH'\n",
            "     nfev: 18\n",
            "      nit: 1\n",
            "   status: 0\n",
            "  success: True\n",
            "        x: array([ 0.2, -0.1])\n",
            " \n",
            "Minimo local 66       fun: 1.0\n",
            " hess_inv: <2x2 LbfgsInvHessProduct with dtype=float64>\n",
            "      jac: array([2.17603713e-06, 2.17603713e-06])\n",
            "  message: b'CONVERGENCE: REL_REDUCTION_OF_F_<=_FACTR*EPSMCH'\n",
            "     nfev: 18\n",
            "      nit: 1\n",
            "   status: 0\n",
            "  success: True\n",
            "        x: array([0.2, 0.1])\n",
            " \n",
            "Minimo local 67       fun: 1.0\n",
            " hess_inv: <2x2 LbfgsInvHessProduct with dtype=float64>\n",
            "      jac: array([2.17603713e-06, 2.17603713e-06])\n",
            "  message: b'CONVERGENCE: REL_REDUCTION_OF_F_<=_FACTR*EPSMCH'\n",
            "     nfev: 18\n",
            "      nit: 1\n",
            "   status: 0\n",
            "  success: True\n",
            "        x: array([0.2, 0.3])\n",
            " \n",
            "Minimo local 68       fun: 1.0\n",
            " hess_inv: <2x2 LbfgsInvHessProduct with dtype=float64>\n",
            "      jac: array([2.17603713e-06, 2.17603713e-06])\n",
            "  message: b'CONVERGENCE: REL_REDUCTION_OF_F_<=_FACTR*EPSMCH'\n",
            "     nfev: 18\n",
            "      nit: 1\n",
            "   status: 0\n",
            "  success: True\n",
            "        x: array([0.2, 0.5])\n",
            " \n",
            "Minimo local 69       fun: 1.0\n",
            " hess_inv: <2x2 LbfgsInvHessProduct with dtype=float64>\n",
            "      jac: array([2.17603713e-06, 2.17603713e-06])\n",
            "  message: b'CONVERGENCE: REL_REDUCTION_OF_F_<=_FACTR*EPSMCH'\n",
            "     nfev: 18\n",
            "      nit: 1\n",
            "   status: 0\n",
            "  success: True\n",
            "        x: array([0.2, 0.7])\n",
            " \n",
            "Minimo local 70       fun: 1.0\n",
            " hess_inv: <2x2 LbfgsInvHessProduct with dtype=float64>\n",
            "      jac: array([2.17603713e-06, 2.17603713e-06])\n",
            "  message: b'CONVERGENCE: REL_REDUCTION_OF_F_<=_FACTR*EPSMCH'\n",
            "     nfev: 18\n",
            "      nit: 1\n",
            "   status: 0\n",
            "  success: True\n",
            "        x: array([0.2, 0.9])\n",
            " \n",
            "Minimo local 71       fun: 1.0\n",
            " hess_inv: <2x2 LbfgsInvHessProduct with dtype=float64>\n",
            "      jac: array([2.17603713e-06, 2.17603713e-06])\n",
            "  message: b'CONVERGENCE: REL_REDUCTION_OF_F_<=_FACTR*EPSMCH'\n",
            "     nfev: 18\n",
            "      nit: 1\n",
            "   status: 0\n",
            "  success: True\n",
            "        x: array([ 0.4, -0.9])\n",
            " \n",
            "Minimo local 72       fun: 1.0\n",
            " hess_inv: <2x2 LbfgsInvHessProduct with dtype=float64>\n",
            "      jac: array([2.17603713e-06, 2.17603713e-06])\n",
            "  message: b'CONVERGENCE: REL_REDUCTION_OF_F_<=_FACTR*EPSMCH'\n",
            "     nfev: 18\n",
            "      nit: 1\n",
            "   status: 0\n",
            "  success: True\n",
            "        x: array([ 0.4, -0.7])\n",
            " \n",
            "Minimo local 73       fun: 1.0\n",
            " hess_inv: <2x2 LbfgsInvHessProduct with dtype=float64>\n",
            "      jac: array([2.17603713e-06, 2.17603713e-06])\n",
            "  message: b'CONVERGENCE: REL_REDUCTION_OF_F_<=_FACTR*EPSMCH'\n",
            "     nfev: 18\n",
            "      nit: 1\n",
            "   status: 0\n",
            "  success: True\n",
            "        x: array([ 0.4, -0.5])\n",
            " \n",
            "Minimo local 74       fun: 1.0\n",
            " hess_inv: <2x2 LbfgsInvHessProduct with dtype=float64>\n",
            "      jac: array([2.17603713e-06, 2.17603713e-06])\n",
            "  message: b'CONVERGENCE: REL_REDUCTION_OF_F_<=_FACTR*EPSMCH'\n",
            "     nfev: 18\n",
            "      nit: 1\n",
            "   status: 0\n",
            "  success: True\n",
            "        x: array([ 0.4, -0.3])\n",
            " \n",
            "Minimo local 75       fun: 1.0\n",
            " hess_inv: <2x2 LbfgsInvHessProduct with dtype=float64>\n",
            "      jac: array([2.17603713e-06, 2.17603713e-06])\n",
            "  message: b'CONVERGENCE: REL_REDUCTION_OF_F_<=_FACTR*EPSMCH'\n",
            "     nfev: 18\n",
            "      nit: 1\n",
            "   status: 0\n",
            "  success: True\n",
            "        x: array([ 0.4, -0.1])\n",
            " \n",
            "Minimo local 76       fun: 1.0\n",
            " hess_inv: <2x2 LbfgsInvHessProduct with dtype=float64>\n",
            "      jac: array([2.17603713e-06, 2.17603713e-06])\n",
            "  message: b'CONVERGENCE: REL_REDUCTION_OF_F_<=_FACTR*EPSMCH'\n",
            "     nfev: 18\n",
            "      nit: 1\n",
            "   status: 0\n",
            "  success: True\n",
            "        x: array([0.4, 0.1])\n",
            " \n",
            "Minimo local 77       fun: 1.0\n",
            " hess_inv: <2x2 LbfgsInvHessProduct with dtype=float64>\n",
            "      jac: array([2.17603713e-06, 2.17603713e-06])\n",
            "  message: b'CONVERGENCE: REL_REDUCTION_OF_F_<=_FACTR*EPSMCH'\n",
            "     nfev: 18\n",
            "      nit: 1\n",
            "   status: 0\n",
            "  success: True\n",
            "        x: array([0.4, 0.3])\n",
            " \n",
            "Minimo local 78       fun: 1.0\n",
            " hess_inv: <2x2 LbfgsInvHessProduct with dtype=float64>\n",
            "      jac: array([2.17603713e-06, 2.17603713e-06])\n",
            "  message: b'CONVERGENCE: REL_REDUCTION_OF_F_<=_FACTR*EPSMCH'\n",
            "     nfev: 18\n",
            "      nit: 1\n",
            "   status: 0\n",
            "  success: True\n",
            "        x: array([0.4, 0.5])\n",
            " \n",
            "Minimo local 79       fun: 1.0\n",
            " hess_inv: <2x2 LbfgsInvHessProduct with dtype=float64>\n",
            "      jac: array([2.17603713e-06, 2.17603713e-06])\n",
            "  message: b'CONVERGENCE: REL_REDUCTION_OF_F_<=_FACTR*EPSMCH'\n",
            "     nfev: 18\n",
            "      nit: 1\n",
            "   status: 0\n",
            "  success: True\n",
            "        x: array([0.4, 0.7])\n",
            " \n",
            "Minimo local 80       fun: 1.0\n",
            " hess_inv: <2x2 LbfgsInvHessProduct with dtype=float64>\n",
            "      jac: array([2.17603713e-06, 2.17603713e-06])\n",
            "  message: b'CONVERGENCE: REL_REDUCTION_OF_F_<=_FACTR*EPSMCH'\n",
            "     nfev: 18\n",
            "      nit: 1\n",
            "   status: 0\n",
            "  success: True\n",
            "        x: array([0.4, 0.9])\n",
            " \n",
            "Minimo local 81       fun: 1.0\n",
            " hess_inv: <2x2 LbfgsInvHessProduct with dtype=float64>\n",
            "      jac: array([2.17603713e-06, 2.17603713e-06])\n",
            "  message: b'CONVERGENCE: REL_REDUCTION_OF_F_<=_FACTR*EPSMCH'\n",
            "     nfev: 18\n",
            "      nit: 1\n",
            "   status: 0\n",
            "  success: True\n",
            "        x: array([ 0.6, -0.9])\n",
            " \n",
            "Minimo local 82       fun: 1.0\n",
            " hess_inv: <2x2 LbfgsInvHessProduct with dtype=float64>\n",
            "      jac: array([2.17603713e-06, 2.17603713e-06])\n",
            "  message: b'CONVERGENCE: REL_REDUCTION_OF_F_<=_FACTR*EPSMCH'\n",
            "     nfev: 18\n",
            "      nit: 1\n",
            "   status: 0\n",
            "  success: True\n",
            "        x: array([ 0.6, -0.7])\n",
            " \n",
            "Minimo local 83       fun: 1.0\n",
            " hess_inv: <2x2 LbfgsInvHessProduct with dtype=float64>\n",
            "      jac: array([2.17603713e-06, 2.17603713e-06])\n",
            "  message: b'CONVERGENCE: REL_REDUCTION_OF_F_<=_FACTR*EPSMCH'\n",
            "     nfev: 18\n",
            "      nit: 1\n",
            "   status: 0\n",
            "  success: True\n",
            "        x: array([ 0.6, -0.5])\n",
            " \n",
            "Minimo local 84       fun: 1.0\n",
            " hess_inv: <2x2 LbfgsInvHessProduct with dtype=float64>\n",
            "      jac: array([2.17603713e-06, 2.17603713e-06])\n",
            "  message: b'CONVERGENCE: REL_REDUCTION_OF_F_<=_FACTR*EPSMCH'\n",
            "     nfev: 18\n",
            "      nit: 1\n",
            "   status: 0\n",
            "  success: True\n",
            "        x: array([ 0.6, -0.3])\n",
            " \n",
            "Minimo local 85       fun: 1.0\n",
            " hess_inv: <2x2 LbfgsInvHessProduct with dtype=float64>\n",
            "      jac: array([2.17603713e-06, 2.17603713e-06])\n",
            "  message: b'CONVERGENCE: REL_REDUCTION_OF_F_<=_FACTR*EPSMCH'\n",
            "     nfev: 18\n",
            "      nit: 1\n",
            "   status: 0\n",
            "  success: True\n",
            "        x: array([ 0.6, -0.1])\n",
            " \n",
            "Minimo local 86       fun: 1.0\n",
            " hess_inv: <2x2 LbfgsInvHessProduct with dtype=float64>\n",
            "      jac: array([2.17603713e-06, 2.17603713e-06])\n",
            "  message: b'CONVERGENCE: REL_REDUCTION_OF_F_<=_FACTR*EPSMCH'\n",
            "     nfev: 18\n",
            "      nit: 1\n",
            "   status: 0\n",
            "  success: True\n",
            "        x: array([0.6, 0.1])\n",
            " \n",
            "Minimo local 87       fun: 1.0\n",
            " hess_inv: <2x2 LbfgsInvHessProduct with dtype=float64>\n",
            "      jac: array([2.17603713e-06, 2.17603713e-06])\n",
            "  message: b'CONVERGENCE: REL_REDUCTION_OF_F_<=_FACTR*EPSMCH'\n",
            "     nfev: 18\n",
            "      nit: 1\n",
            "   status: 0\n",
            "  success: True\n",
            "        x: array([0.6, 0.3])\n",
            " \n",
            "Minimo local 88       fun: 1.0\n",
            " hess_inv: <2x2 LbfgsInvHessProduct with dtype=float64>\n",
            "      jac: array([2.17603713e-06, 2.17603713e-06])\n",
            "  message: b'CONVERGENCE: REL_REDUCTION_OF_F_<=_FACTR*EPSMCH'\n",
            "     nfev: 18\n",
            "      nit: 1\n",
            "   status: 0\n",
            "  success: True\n",
            "        x: array([0.6, 0.5])\n",
            " \n",
            "Minimo local 89       fun: 1.0\n",
            " hess_inv: <2x2 LbfgsInvHessProduct with dtype=float64>\n",
            "      jac: array([2.17603713e-06, 2.17603713e-06])\n",
            "  message: b'CONVERGENCE: REL_REDUCTION_OF_F_<=_FACTR*EPSMCH'\n",
            "     nfev: 18\n",
            "      nit: 1\n",
            "   status: 0\n",
            "  success: True\n",
            "        x: array([0.6, 0.7])\n",
            " \n",
            "Minimo local 90       fun: 1.0\n",
            " hess_inv: <2x2 LbfgsInvHessProduct with dtype=float64>\n",
            "      jac: array([2.17603713e-06, 2.17603713e-06])\n",
            "  message: b'CONVERGENCE: REL_REDUCTION_OF_F_<=_FACTR*EPSMCH'\n",
            "     nfev: 18\n",
            "      nit: 1\n",
            "   status: 0\n",
            "  success: True\n",
            "        x: array([0.6, 0.9])\n",
            " \n",
            "Minimo local 91       fun: 1.0\n",
            " hess_inv: <2x2 LbfgsInvHessProduct with dtype=float64>\n",
            "      jac: array([2.17603713e-06, 2.17603713e-06])\n",
            "  message: b'CONVERGENCE: REL_REDUCTION_OF_F_<=_FACTR*EPSMCH'\n",
            "     nfev: 18\n",
            "      nit: 1\n",
            "   status: 0\n",
            "  success: True\n",
            "        x: array([ 0.8, -0.9])\n",
            " \n",
            "Minimo local 92       fun: 1.0\n",
            " hess_inv: <2x2 LbfgsInvHessProduct with dtype=float64>\n",
            "      jac: array([2.17603713e-06, 2.17603713e-06])\n",
            "  message: b'CONVERGENCE: REL_REDUCTION_OF_F_<=_FACTR*EPSMCH'\n",
            "     nfev: 18\n",
            "      nit: 1\n",
            "   status: 0\n",
            "  success: True\n",
            "        x: array([ 0.8, -0.7])\n",
            " \n",
            "Minimo local 93       fun: 1.0\n",
            " hess_inv: <2x2 LbfgsInvHessProduct with dtype=float64>\n",
            "      jac: array([2.17603713e-06, 2.17603713e-06])\n",
            "  message: b'CONVERGENCE: REL_REDUCTION_OF_F_<=_FACTR*EPSMCH'\n",
            "     nfev: 18\n",
            "      nit: 1\n",
            "   status: 0\n",
            "  success: True\n",
            "        x: array([ 0.8, -0.5])\n",
            " \n",
            "Minimo local 94       fun: 1.0\n",
            " hess_inv: <2x2 LbfgsInvHessProduct with dtype=float64>\n",
            "      jac: array([2.17603713e-06, 2.17603713e-06])\n",
            "  message: b'CONVERGENCE: REL_REDUCTION_OF_F_<=_FACTR*EPSMCH'\n",
            "     nfev: 18\n",
            "      nit: 1\n",
            "   status: 0\n",
            "  success: True\n",
            "        x: array([ 0.8, -0.3])\n",
            " \n",
            "Minimo local 95       fun: 1.0\n",
            " hess_inv: <2x2 LbfgsInvHessProduct with dtype=float64>\n",
            "      jac: array([2.17603713e-06, 2.17603713e-06])\n",
            "  message: b'CONVERGENCE: REL_REDUCTION_OF_F_<=_FACTR*EPSMCH'\n",
            "     nfev: 18\n",
            "      nit: 1\n",
            "   status: 0\n",
            "  success: True\n",
            "        x: array([ 0.8, -0.1])\n",
            " \n",
            "Minimo local 96       fun: 1.0\n",
            " hess_inv: <2x2 LbfgsInvHessProduct with dtype=float64>\n",
            "      jac: array([2.17603713e-06, 2.17603713e-06])\n",
            "  message: b'CONVERGENCE: REL_REDUCTION_OF_F_<=_FACTR*EPSMCH'\n",
            "     nfev: 18\n",
            "      nit: 1\n",
            "   status: 0\n",
            "  success: True\n",
            "        x: array([0.8, 0.1])\n",
            " \n",
            "Minimo local 97       fun: 1.0\n",
            " hess_inv: <2x2 LbfgsInvHessProduct with dtype=float64>\n",
            "      jac: array([2.17603713e-06, 2.17603713e-06])\n",
            "  message: b'CONVERGENCE: REL_REDUCTION_OF_F_<=_FACTR*EPSMCH'\n",
            "     nfev: 18\n",
            "      nit: 1\n",
            "   status: 0\n",
            "  success: True\n",
            "        x: array([0.8, 0.3])\n",
            " \n",
            "Minimo local 98       fun: 1.0\n",
            " hess_inv: <2x2 LbfgsInvHessProduct with dtype=float64>\n",
            "      jac: array([2.17603713e-06, 2.17603713e-06])\n",
            "  message: b'CONVERGENCE: REL_REDUCTION_OF_F_<=_FACTR*EPSMCH'\n",
            "     nfev: 18\n",
            "      nit: 1\n",
            "   status: 0\n",
            "  success: True\n",
            "        x: array([0.8, 0.5])\n",
            " \n",
            "Minimo local 99       fun: 1.0\n",
            " hess_inv: <2x2 LbfgsInvHessProduct with dtype=float64>\n",
            "      jac: array([2.17603713e-06, 2.17603713e-06])\n",
            "  message: b'CONVERGENCE: REL_REDUCTION_OF_F_<=_FACTR*EPSMCH'\n",
            "     nfev: 18\n",
            "      nit: 1\n",
            "   status: 0\n",
            "  success: True\n",
            "        x: array([0.8, 0.7])\n",
            " \n",
            "Minimo local 100       fun: 1.0\n",
            " hess_inv: <2x2 LbfgsInvHessProduct with dtype=float64>\n",
            "      jac: array([2.17603713e-06, 2.17603713e-06])\n",
            "  message: b'CONVERGENCE: REL_REDUCTION_OF_F_<=_FACTR*EPSMCH'\n",
            "     nfev: 18\n",
            "      nit: 1\n",
            "   status: 0\n",
            "  success: True\n",
            "        x: array([0.8, 0.9])\n",
            " \n",
            "Minimo local 101       fun: 1.0\n",
            " hess_inv: <2x2 LbfgsInvHessProduct with dtype=float64>\n",
            "      jac: array([2.17603713e-06, 2.17603713e-06])\n",
            "  message: b'CONVERGENCE: REL_REDUCTION_OF_F_<=_FACTR*EPSMCH'\n",
            "     nfev: 18\n",
            "      nit: 1\n",
            "   status: 0\n",
            "  success: True\n",
            "        x: array([ 1. , -0.9])\n",
            " \n",
            "Minimo local 102       fun: 1.0\n",
            " hess_inv: <2x2 LbfgsInvHessProduct with dtype=float64>\n",
            "      jac: array([2.17603713e-06, 2.17603713e-06])\n",
            "  message: b'CONVERGENCE: REL_REDUCTION_OF_F_<=_FACTR*EPSMCH'\n",
            "     nfev: 18\n",
            "      nit: 1\n",
            "   status: 0\n",
            "  success: True\n",
            "        x: array([ 1. , -0.7])\n",
            " \n",
            "Minimo local 103       fun: 1.0\n",
            " hess_inv: <2x2 LbfgsInvHessProduct with dtype=float64>\n",
            "      jac: array([2.17603713e-06, 2.17603713e-06])\n",
            "  message: b'CONVERGENCE: REL_REDUCTION_OF_F_<=_FACTR*EPSMCH'\n",
            "     nfev: 18\n",
            "      nit: 1\n",
            "   status: 0\n",
            "  success: True\n",
            "        x: array([ 1. , -0.5])\n",
            " \n",
            "Minimo local 104       fun: 1.0\n",
            " hess_inv: <2x2 LbfgsInvHessProduct with dtype=float64>\n",
            "      jac: array([2.17603713e-06, 2.17603713e-06])\n",
            "  message: b'CONVERGENCE: REL_REDUCTION_OF_F_<=_FACTR*EPSMCH'\n",
            "     nfev: 18\n",
            "      nit: 1\n",
            "   status: 0\n",
            "  success: True\n",
            "        x: array([ 1. , -0.3])\n",
            " \n",
            "Minimo local 105       fun: 1.0\n",
            " hess_inv: <2x2 LbfgsInvHessProduct with dtype=float64>\n",
            "      jac: array([2.17603713e-06, 2.17603713e-06])\n",
            "  message: b'CONVERGENCE: REL_REDUCTION_OF_F_<=_FACTR*EPSMCH'\n",
            "     nfev: 18\n",
            "      nit: 1\n",
            "   status: 0\n",
            "  success: True\n",
            "        x: array([ 1. , -0.1])\n",
            " \n",
            "Minimo local 106       fun: 1.0\n",
            " hess_inv: <2x2 LbfgsInvHessProduct with dtype=float64>\n",
            "      jac: array([2.17603713e-06, 2.17603713e-06])\n",
            "  message: b'CONVERGENCE: REL_REDUCTION_OF_F_<=_FACTR*EPSMCH'\n",
            "     nfev: 18\n",
            "      nit: 1\n",
            "   status: 0\n",
            "  success: True\n",
            "        x: array([1. , 0.1])\n",
            " \n",
            "Minimo local 107       fun: 1.0\n",
            " hess_inv: <2x2 LbfgsInvHessProduct with dtype=float64>\n",
            "      jac: array([2.17603713e-06, 2.17603713e-06])\n",
            "  message: b'CONVERGENCE: REL_REDUCTION_OF_F_<=_FACTR*EPSMCH'\n",
            "     nfev: 18\n",
            "      nit: 1\n",
            "   status: 0\n",
            "  success: True\n",
            "        x: array([1. , 0.3])\n",
            " \n",
            "Minimo local 108       fun: 1.0\n",
            " hess_inv: <2x2 LbfgsInvHessProduct with dtype=float64>\n",
            "      jac: array([2.17603713e-06, 2.17603713e-06])\n",
            "  message: b'CONVERGENCE: REL_REDUCTION_OF_F_<=_FACTR*EPSMCH'\n",
            "     nfev: 18\n",
            "      nit: 1\n",
            "   status: 0\n",
            "  success: True\n",
            "        x: array([1. , 0.5])\n",
            " \n",
            "Minimo local 109       fun: 1.0\n",
            " hess_inv: <2x2 LbfgsInvHessProduct with dtype=float64>\n",
            "      jac: array([2.17603713e-06, 2.17603713e-06])\n",
            "  message: b'CONVERGENCE: REL_REDUCTION_OF_F_<=_FACTR*EPSMCH'\n",
            "     nfev: 18\n",
            "      nit: 1\n",
            "   status: 0\n",
            "  success: True\n",
            "        x: array([1. , 0.7])\n",
            " \n",
            "Minimo local 110       fun: 1.0\n",
            " hess_inv: <2x2 LbfgsInvHessProduct with dtype=float64>\n",
            "      jac: array([2.17603713e-06, 2.17603713e-06])\n",
            "  message: b'CONVERGENCE: REL_REDUCTION_OF_F_<=_FACTR*EPSMCH'\n",
            "     nfev: 18\n",
            "      nit: 1\n",
            "   status: 0\n",
            "  success: True\n",
            "        x: array([1. , 0.9])\n",
            " \n"
          ],
          "name": "stdout"
        }
      ]
    },
    {
      "cell_type": "markdown",
      "metadata": {
        "id": "JAmzU_6SR03e"
      },
      "source": [
        "Como podemos ver, todos sus mínimos locales estan en las coordenadas $(X[i],Y[j] ,1)$ con $i< len(range(X))$ y $j< len(range(Y))$  y con  $X=[-1,-0.8,-0.6,...,0.6,0.8,1]$ ,  $Y=[-0.9,-0.7,-0.5,...,0.5,0.7,0.9]$ .\n",
        "Cabe resaltar que no sólo puedo tomar valores de X y Y sino cualesquira otros cercanos a los mínimos como en el siguiente ejemplo que tomamos a $[0.3,0.05]$ que debería corresponder al mínimo $\\left(-0.4,0.1\\right)$"
      ]
    },
    {
      "cell_type": "code",
      "metadata": {
        "colab": {
          "base_uri": "https://localhost:8080/"
        },
        "id": "jWA1QBhcHS5R",
        "outputId": "41925520-24d8-4a56-afe6-13c6df74135b"
      },
      "source": [
        "def f(x):\n",
        "   return np.exp(np.sin(5*(np.pi)*x[0])**2) * np.exp(np.cos(5*(np.pi)*x[1])**2)\n",
        "optimize.minimize(f, np.array([-0.37,0.05]), bounds=((-1, 1), (-1, 1)),tol=1E-10) "
      ],
      "execution_count": null,
      "outputs": [
        {
          "output_type": "execute_result",
          "data": {
            "text/plain": [
              "      fun: 1.0000000000000309\n",
              " hess_inv: <2x2 LbfgsInvHessProduct with dtype=float64>\n",
              "      jac: array([7.83817455e-06, 3.75255382e-06])\n",
              "  message: b'CONVERGENCE: REL_REDUCTION_OF_F_<=_FACTR*EPSMCH'\n",
              "     nfev: 30\n",
              "      nit: 6\n",
              "   status: 0\n",
              "  success: True\n",
              "        x: array([-0.39999999,  0.1       ])"
            ]
          },
          "metadata": {
            "tags": []
          },
          "execution_count": 38
        }
      ]
    }
  ]
}